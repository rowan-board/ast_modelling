{
 "cells": [
  {
   "cell_type": "code",
   "execution_count": 25,
   "id": "4c7736cf",
   "metadata": {},
   "outputs": [],
   "source": [
    "# packages and scripts\n",
    "import pickle\n",
    "import numpy as np\n",
    "import pandas as pd\n",
    "import seaborn as sns\n",
    "import re\n",
    "import scripts.functions as sf\n",
    "import ast\n",
    "\n",
    "# load data\n",
    "data = pd.read_csv('data/raw/human/pilot/sample_human_data_2.csv')"
   ]
  },
  {
   "cell_type": "code",
   "execution_count": null,
   "id": "112d21bb",
   "metadata": {},
   "outputs": [],
   "source": [
    "# get the data list\n",
    "tmp_R = data['feedback'][0:74].apply(ast.literal_eval)\n",
    "tmp_choice = data['C'][0:74]\n",
    "tmp_S = data['S'][0:74].apply(ast.literal_eval)\n",
    "if data['current_dimension'][0] == 0:\n",
    "    tmp_d1 = 'A'\n",
    "else:\n",
    "    tmp_d1 = 'B'\n",
    "\n",
    "model_data = {'R': tmp_R, 'choice': tmp_choice, 'S': tmp_S, 'dimension1': tmp_d1}\n",
    "\n",
    "# need 2 data sets so just bind for now\n",
    "model_data = [model_data,model_data]"
   ]
  },
  {
   "cell_type": "code",
   "execution_count": 30,
   "id": "099597c9",
   "metadata": {},
   "outputs": [
    {
     "name": "stderr",
     "output_type": "stream",
     "text": [
      "Participant: 2it [00:00,  7.01it/s]"
     ]
    },
    {
     "name": "stdout",
     "output_type": "stream",
     "text": [
      "Iteration: 1 [1.30586207 0.10214418] [[ 0.07399072 -0.00666891]\n",
      " [-0.00666891  0.03234641]]\n"
     ]
    },
    {
     "name": "stderr",
     "output_type": "stream",
     "text": [
      "\n",
      "Participant: 2it [00:00, 13.69it/s]"
     ]
    },
    {
     "name": "stdout",
     "output_type": "stream",
     "text": [
      "Iteration: 2 [1.07729651 0.17432941] [[ 0.0590164  -0.00591249]\n",
      " [-0.00591249  0.01868236]]\n"
     ]
    },
    {
     "name": "stderr",
     "output_type": "stream",
     "text": [
      "\n",
      "Participant: 2it [00:00, 14.95it/s]"
     ]
    },
    {
     "name": "stdout",
     "output_type": "stream",
     "text": [
      "Iteration: 3 [0.92230174 0.21025318] [[ 0.05051739 -0.00498134]\n",
      " [-0.00498134  0.01299048]]\n"
     ]
    },
    {
     "name": "stderr",
     "output_type": "stream",
     "text": [
      "\n",
      "Participant: 2it [00:00, 14.56it/s]"
     ]
    },
    {
     "name": "stdout",
     "output_type": "stream",
     "text": [
      "Iteration: 4 [0.80522249 0.23231529] [[ 0.04505354 -0.00435231]\n",
      " [-0.00435231  0.00992217]]\n"
     ]
    },
    {
     "name": "stderr",
     "output_type": "stream",
     "text": [
      "\n",
      "Participant: 2it [00:00, 14.67it/s]"
     ]
    },
    {
     "name": "stdout",
     "output_type": "stream",
     "text": [
      "Iteration: 5 [0.7104561  0.24778449] [[ 0.04118865 -0.00393363]\n",
      " [-0.00393363  0.00802122]]\n"
     ]
    },
    {
     "name": "stderr",
     "output_type": "stream",
     "text": [
      "\n",
      "Participant: 2it [00:00, 14.86it/s]"
     ]
    },
    {
     "name": "stdout",
     "output_type": "stream",
     "text": [
      "Iteration: 6 [0.63036402 0.25963663] [[ 0.03824358 -0.00364361]\n",
      " [-0.00364361  0.00673454]]\n"
     ]
    },
    {
     "name": "stderr",
     "output_type": "stream",
     "text": [
      "\n",
      "Participant: 2it [00:00, 15.22it/s]"
     ]
    },
    {
     "name": "stdout",
     "output_type": "stream",
     "text": [
      "Iteration: 7 [0.56079382 0.26928547] [[ 0.03585571 -0.00343132]\n",
      " [-0.00343132  0.00580884]]\n"
     ]
    },
    {
     "name": "stderr",
     "output_type": "stream",
     "text": [
      "\n",
      "Participant: 2it [00:00, 15.00it/s]"
     ]
    },
    {
     "name": "stdout",
     "output_type": "stream",
     "text": [
      "Iteration: 8 [0.49930513 0.27747492] [[ 0.03382632 -0.00326729]\n",
      " [-0.00326729  0.00511222]]\n"
     ]
    },
    {
     "name": "stderr",
     "output_type": "stream",
     "text": [
      "\n",
      "Participant: 2it [00:00, 17.55it/s]"
     ]
    },
    {
     "name": "stdout",
     "output_type": "stream",
     "text": [
      "Iteration: 9 [0.44435371 0.28462836] [[ 0.03202378 -0.00312788]\n",
      " [-0.00312788  0.00456762]]\n"
     ]
    },
    {
     "name": "stderr",
     "output_type": "stream",
     "text": [
      "\n",
      "Participant: 2it [00:00, 16.24it/s]"
     ]
    },
    {
     "name": "stdout",
     "output_type": "stream",
     "text": [
      "Iteration: 10 [0.39492197 0.29099282] [[ 0.03040477 -0.00301245]\n",
      " [-0.00301245  0.00413277]]\n"
     ]
    },
    {
     "name": "stderr",
     "output_type": "stream",
     "text": [
      "\n",
      "Participant: 2it [00:00, 15.39it/s]"
     ]
    },
    {
     "name": "stdout",
     "output_type": "stream",
     "text": [
      "Iteration: 11 [0.35024145 0.29673883] [[ 0.02891899 -0.00291176]\n",
      " [-0.00291176  0.00377745]]\n"
     ]
    },
    {
     "name": "stderr",
     "output_type": "stream",
     "text": [
      "\n",
      "Participant: 2it [00:00, 17.85it/s]"
     ]
    },
    {
     "name": "stdout",
     "output_type": "stream",
     "text": [
      "Iteration: 12 [0.3097361  0.30197785] [[ 0.0275356  -0.00282025]\n",
      " [-0.00282025  0.00348152]]\n"
     ]
    },
    {
     "name": "stderr",
     "output_type": "stream",
     "text": [
      "\n",
      "Participant: 2it [00:00, 17.84it/s]"
     ]
    },
    {
     "name": "stdout",
     "output_type": "stream",
     "text": [
      "Iteration: 13 [0.2729488  0.30678642] [[ 0.02623616 -0.00273455]\n",
      " [-0.00273455  0.00323104]]\n"
     ]
    },
    {
     "name": "stderr",
     "output_type": "stream",
     "text": [
      "\n",
      "Participant: 2it [00:00, 15.69it/s]"
     ]
    },
    {
     "name": "stdout",
     "output_type": "stream",
     "text": [
      "Iteration: 14 [0.23949851 0.3112198 ] [[ 0.02500965 -0.00265271]\n",
      " [-0.00265271  0.00301609]]\n"
     ]
    },
    {
     "name": "stderr",
     "output_type": "stream",
     "text": [
      "\n",
      "Participant: 2it [00:00, 17.29it/s]"
     ]
    },
    {
     "name": "stdout",
     "output_type": "stream",
     "text": [
      "Iteration: 15 [0.20905568 0.31532001] [[ 0.0238496  -0.00257365]\n",
      " [-0.00257365  0.00282944]]\n"
     ]
    },
    {
     "name": "stderr",
     "output_type": "stream",
     "text": [
      "\n",
      "Participant: 2it [00:00, 16.71it/s]"
     ]
    },
    {
     "name": "stdout",
     "output_type": "stream",
     "text": [
      "Iteration: 16 [0.18132802 0.31912056] [[ 0.02275198 -0.00249683]\n",
      " [-0.00249683  0.00266567]]\n"
     ]
    },
    {
     "name": "stderr",
     "output_type": "stream",
     "text": [
      "\n",
      "Participant: 2it [00:00, 17.22it/s]"
     ]
    },
    {
     "name": "stdout",
     "output_type": "stream",
     "text": [
      "Iteration: 17 [0.15605253 0.32264934] [[ 0.02171414 -0.00242202]\n",
      " [-0.00242202  0.00252069]]\n"
     ]
    },
    {
     "name": "stderr",
     "output_type": "stream",
     "text": [
      "\n",
      "Participant: 2it [00:00, 17.49it/s]"
     ]
    },
    {
     "name": "stdout",
     "output_type": "stream",
     "text": [
      "Iteration: 18 [0.13299084 0.32593036] [[ 0.02073382 -0.0023492 ]\n",
      " [-0.0023492   0.00239132]]\n"
     ]
    },
    {
     "name": "stderr",
     "output_type": "stream",
     "text": [
      "\n",
      "Participant: 2it [00:00, 17.06it/s]"
     ]
    },
    {
     "name": "stdout",
     "output_type": "stream",
     "text": [
      "Iteration: 19 [0.11192655 0.32898477] [[ 0.01980905 -0.00227841]\n",
      " [-0.00227841  0.00227508]]\n"
     ]
    },
    {
     "name": "stderr",
     "output_type": "stream",
     "text": [
      "\n",
      "Participant: 2it [00:00, 16.94it/s]"
     ]
    },
    {
     "name": "stdout",
     "output_type": "stream",
     "text": [
      "Iteration: 20 [0.09266323 0.33183152] [[ 0.01893771 -0.00220974]\n",
      " [-0.00220974  0.00217   ]]\n"
     ]
    },
    {
     "name": "stderr",
     "output_type": "stream",
     "text": [
      "\n",
      "Participant: 2it [00:00, 17.63it/s]"
     ]
    },
    {
     "name": "stdout",
     "output_type": "stream",
     "text": [
      "Iteration: 21 [0.07502306 0.33448776] [[ 0.01811761 -0.00214328]\n",
      " [-0.00214328  0.00207447]]\n"
     ]
    },
    {
     "name": "stderr",
     "output_type": "stream",
     "text": [
      "\n",
      "Participant: 2it [00:00, 15.80it/s]"
     ]
    },
    {
     "name": "stdout",
     "output_type": "stream",
     "text": [
      "Iteration: 22 [0.05884546 0.33696908] [[ 0.01734628 -0.0020791 ]\n",
      " [-0.0020791   0.00198722]]\n"
     ]
    },
    {
     "name": "stderr",
     "output_type": "stream",
     "text": [
      "\n",
      "Participant: 2it [00:00, 17.32it/s]"
     ]
    },
    {
     "name": "stdout",
     "output_type": "stream",
     "text": [
      "Iteration: 23 [0.0439859  0.33928973] [[ 0.01662126 -0.00201725]\n",
      " [-0.00201725  0.00190718]]\n"
     ]
    },
    {
     "name": "stderr",
     "output_type": "stream",
     "text": [
      "\n",
      "Participant: 2it [00:00, 17.44it/s]"
     ]
    },
    {
     "name": "stdout",
     "output_type": "stream",
     "text": [
      "Iteration: 24 [0.03031454 0.34146271] [[ 0.01593998 -0.00195775]\n",
      " [-0.00195775  0.00183346]]\n"
     ]
    },
    {
     "name": "stderr",
     "output_type": "stream",
     "text": [
      "\n",
      "Participant: 2it [00:00, 17.15it/s]"
     ]
    },
    {
     "name": "stdout",
     "output_type": "stream",
     "text": [
      "Iteration: 25 [0.01771498 0.3434999 ] [[ 0.01529989 -0.0019006 ]\n",
      " [-0.0019006   0.00176532]]\n"
     ]
    },
    {
     "name": "stderr",
     "output_type": "stream",
     "text": [
      "\n",
      "Participant: 2it [00:00, 16.14it/s]"
     ]
    },
    {
     "name": "stdout",
     "output_type": "stream",
     "text": [
      "Iteration: 26 [0.00608306 0.34541214] [[ 0.01469843 -0.00184577]\n",
      " [-0.00184577  0.00170214]]\n"
     ]
    },
    {
     "name": "stderr",
     "output_type": "stream",
     "text": [
      "\n",
      "Participant: 2it [00:00, 16.72it/s]"
     ]
    },
    {
     "name": "stdout",
     "output_type": "stream",
     "text": [
      "Iteration: 27 [-0.00467435  0.34720933] [[ 0.01413314 -0.00179322]\n",
      " [-0.00179322  0.00164339]]\n"
     ]
    },
    {
     "name": "stderr",
     "output_type": "stream",
     "text": [
      "\n",
      "Participant: 2it [00:00, 15.16it/s]"
     ]
    },
    {
     "name": "stdout",
     "output_type": "stream",
     "text": [
      "Iteration: 28 [-0.01464049  0.34890051] [[ 0.01359905 -0.00174286]\n",
      " [-0.00174286  0.00158871]]\n"
     ]
    },
    {
     "name": "stderr",
     "output_type": "stream",
     "text": [
      "\n",
      "Participant: 2it [00:00, 15.08it/s]"
     ]
    },
    {
     "name": "stdout",
     "output_type": "stream",
     "text": [
      "Iteration: 29 [-0.02388811  0.35049393] [[ 0.01309624 -0.00169463]\n",
      " [-0.00169463  0.0015376 ]]\n"
     ]
    },
    {
     "name": "stderr",
     "output_type": "stream",
     "text": [
      "\n",
      "Participant: 2it [00:00, 16.82it/s]"
     ]
    },
    {
     "name": "stdout",
     "output_type": "stream",
     "text": [
      "Iteration: 30 [-0.03248367  0.35199707] [[ 0.01262336 -0.00164846]\n",
      " [-0.00164846  0.0014897 ]]\n"
     ]
    },
    {
     "name": "stderr",
     "output_type": "stream",
     "text": [
      "\n",
      "Participant: 2it [00:00, 17.35it/s]"
     ]
    },
    {
     "name": "stdout",
     "output_type": "stream",
     "text": [
      "Iteration: 31 [-0.04048705  0.35341677] [[ 0.01217826 -0.00160429]\n",
      " [-0.00160429  0.0014447 ]]\n"
     ]
    },
    {
     "name": "stderr",
     "output_type": "stream",
     "text": [
      "\n",
      "Participant: 2it [00:00, 15.46it/s]"
     ]
    },
    {
     "name": "stdout",
     "output_type": "stream",
     "text": [
      "Iteration: 32 [-0.04795174  0.35475927] [[ 0.01175895 -0.00156202]\n",
      " [-0.00156202  0.00140235]]\n"
     ]
    },
    {
     "name": "stderr",
     "output_type": "stream",
     "text": [
      "\n",
      "Participant: 2it [00:00, 16.39it/s]"
     ]
    },
    {
     "name": "stdout",
     "output_type": "stream",
     "text": [
      "Iteration: 33 [-0.05492557  0.35603026] [[ 0.01136366 -0.00152157]\n",
      " [-0.00152157  0.00136242]]\n"
     ]
    },
    {
     "name": "stderr",
     "output_type": "stream",
     "text": [
      "\n",
      "Participant: 2it [00:00, 18.11it/s]"
     ]
    },
    {
     "name": "stdout",
     "output_type": "stream",
     "text": [
      "Iteration: 34 [-0.0614514   0.35723494] [[ 0.01099049 -0.00148288]\n",
      " [-0.00148288  0.00132471]]\n"
     ]
    },
    {
     "name": "stderr",
     "output_type": "stream",
     "text": [
      "\n",
      "Participant: 2it [00:00, 16.05it/s]"
     ]
    },
    {
     "name": "stdout",
     "output_type": "stream",
     "text": [
      "Iteration: 35 [-0.06756752  0.35837805] [[ 0.01063844 -0.00144586]\n",
      " [-0.00144586  0.00128902]]\n"
     ]
    },
    {
     "name": "stderr",
     "output_type": "stream",
     "text": [
      "\n",
      "Participant: 2it [00:00, 20.40it/s]"
     ]
    },
    {
     "name": "stdout",
     "output_type": "stream",
     "text": [
      "Iteration: 36 [-0.07330864  0.35946393] [[ 0.01030601 -0.00141043]\n",
      " [-0.00141043  0.0012552 ]]\n"
     ]
    },
    {
     "name": "stderr",
     "output_type": "stream",
     "text": [
      "\n",
      "Participant: 2it [00:00, 21.03it/s]"
     ]
    },
    {
     "name": "stdout",
     "output_type": "stream",
     "text": [
      "Iteration: 37 [-0.07870598  0.36049658] [[ 0.00999129 -0.0013765 ]\n",
      " [-0.0013765   0.00122312]]\n"
     ]
    },
    {
     "name": "stderr",
     "output_type": "stream",
     "text": [
      "\n",
      "Participant: 2it [00:00, 18.99it/s]"
     ]
    },
    {
     "name": "stdout",
     "output_type": "stream",
     "text": [
      "Iteration: 38 [-0.08378734  0.36147961] [[ 0.00969303 -0.00134399]\n",
      " [-0.00134399  0.00119264]]\n"
     ]
    },
    {
     "name": "stderr",
     "output_type": "stream",
     "text": [
      "\n",
      "Participant: 2it [00:00, 20.60it/s]"
     ]
    },
    {
     "name": "stdout",
     "output_type": "stream",
     "text": [
      "Iteration: 39 [-0.08857779  0.36241637] [[ 0.00941012 -0.00131282]\n",
      " [-0.00131282  0.00116365]]\n"
     ]
    },
    {
     "name": "stderr",
     "output_type": "stream",
     "text": [
      "\n",
      "Participant: 2it [00:00, 19.99it/s]"
     ]
    },
    {
     "name": "stdout",
     "output_type": "stream",
     "text": [
      "Iteration: 40 [-0.09309998  0.36330991] [[ 0.00914154 -0.00128292]\n",
      " [-0.00128292  0.00113604]]\n"
     ]
    },
    {
     "name": "stderr",
     "output_type": "stream",
     "text": [
      "\n",
      "Participant: 2it [00:00, 20.81it/s]"
     ]
    },
    {
     "name": "stdout",
     "output_type": "stream",
     "text": [
      "Iteration: 41 [-0.09737442  0.36416302] [[ 0.0088863  -0.00125423]\n",
      " [-0.00125423  0.00110972]]\n"
     ]
    },
    {
     "name": "stderr",
     "output_type": "stream",
     "text": [
      "\n",
      "Participant: 2it [00:00, 18.34it/s]"
     ]
    },
    {
     "name": "stdout",
     "output_type": "stream",
     "text": [
      "Iteration: 42 [-0.10141971  0.36497829] [[ 0.00864355 -0.00122668]\n",
      " [-0.00122668  0.00108459]]\n"
     ]
    },
    {
     "name": "stderr",
     "output_type": "stream",
     "text": [
      "\n",
      "Participant: 2it [00:00, 20.61it/s]"
     ]
    },
    {
     "name": "stdout",
     "output_type": "stream",
     "text": [
      "Iteration: 43 [-0.10525271  0.36575809] [[ 0.00841244 -0.00120022]\n",
      " [-0.00120022  0.00106058]]\n"
     ]
    },
    {
     "name": "stderr",
     "output_type": "stream",
     "text": [
      "\n",
      "Participant: 2it [00:00, 20.72it/s]"
     ]
    },
    {
     "name": "stdout",
     "output_type": "stream",
     "text": [
      "Iteration: 44 [-0.10888878  0.36650461] [[ 0.00819224 -0.00117478]\n",
      " [-0.00117478  0.00103761]]\n"
     ]
    },
    {
     "name": "stderr",
     "output_type": "stream",
     "text": [
      "\n",
      "Participant: 2it [00:00, 19.07it/s]"
     ]
    },
    {
     "name": "stdout",
     "output_type": "stream",
     "text": [
      "Iteration: 45 [-0.11234188  0.36721988] [[ 0.00798222 -0.00115033]\n",
      " [-0.00115033  0.00101562]]\n"
     ]
    },
    {
     "name": "stderr",
     "output_type": "stream",
     "text": [
      "\n",
      "Participant: 2it [00:00, 21.34it/s]"
     ]
    },
    {
     "name": "stdout",
     "output_type": "stream",
     "text": [
      "Iteration: 46 [-0.11562475  0.36790575] [[ 0.00778179 -0.00112679]\n",
      " [-0.00112679  0.00099454]]\n"
     ]
    },
    {
     "name": "stderr",
     "output_type": "stream",
     "text": [
      "\n",
      "Participant: 2it [00:00, 20.56it/s]"
     ]
    },
    {
     "name": "stdout",
     "output_type": "stream",
     "text": [
      "Iteration: 47 [-0.11874907  0.36856394] [[ 0.00759032 -0.00110414]\n",
      " [-0.00110414  0.00097432]]\n"
     ]
    },
    {
     "name": "stderr",
     "output_type": "stream",
     "text": [
      "\n",
      "Participant: 2it [00:00, 19.28it/s]"
     ]
    },
    {
     "name": "stdout",
     "output_type": "stream",
     "text": [
      "Iteration: 48 [-0.12172546  0.36919607] [[ 0.0074073  -0.00108232]\n",
      " [-0.00108232  0.00095492]]\n"
     ]
    },
    {
     "name": "stderr",
     "output_type": "stream",
     "text": [
      "\n",
      "Participant: 2it [00:00, 20.09it/s]"
     ]
    },
    {
     "name": "stdout",
     "output_type": "stream",
     "text": [
      "Iteration: 49 [-0.12456371  0.3698036 ] [[ 0.0072322  -0.00106129]\n",
      " [-0.00106129  0.00093627]]\n"
     ]
    },
    {
     "name": "stderr",
     "output_type": "stream",
     "text": [
      "\n",
      "Participant: 2it [00:00, 20.33it/s]"
     ]
    },
    {
     "name": "stdout",
     "output_type": "stream",
     "text": [
      "Iteration: 50 [-0.12727278  0.37038791] [[ 0.00706459 -0.00104102]\n",
      " [-0.00104102  0.00091834]]\n"
     ]
    },
    {
     "name": "stderr",
     "output_type": "stream",
     "text": [
      "\n",
      "Participant: 2it [00:00, 20.28it/s]"
     ]
    },
    {
     "name": "stdout",
     "output_type": "stream",
     "text": [
      "Iteration: 51 [-0.1298609   0.37095028] [[ 0.00690397 -0.00102146]\n",
      " [-0.00102146  0.00090108]]\n"
     ]
    },
    {
     "name": "stderr",
     "output_type": "stream",
     "text": [
      "\n",
      "Participant: 2it [00:00, 20.02it/s]"
     ]
    },
    {
     "name": "stdout",
     "output_type": "stream",
     "text": [
      "Iteration: 52 [-0.13233564  0.37149189] [[ 0.00674998 -0.00100259]\n",
      " [-0.00100259  0.00088446]]\n"
     ]
    },
    {
     "name": "stderr",
     "output_type": "stream",
     "text": [
      "\n",
      "Participant: 2it [00:00, 20.70it/s]"
     ]
    },
    {
     "name": "stdout",
     "output_type": "stream",
     "text": [
      "Iteration: 53 [-0.13470399  0.37201385] [[ 0.00660221 -0.00098436]\n",
      " [-0.00098436  0.00086845]]\n"
     ]
    },
    {
     "name": "stderr",
     "output_type": "stream",
     "text": [
      "\n",
      "Participant: 2it [00:00, 21.00it/s]"
     ]
    },
    {
     "name": "stdout",
     "output_type": "stream",
     "text": [
      "Iteration: 54 [-0.13697237  0.37251719] [[ 0.00646032 -0.00096675]\n",
      " [-0.00096675  0.000853  ]]\n"
     ]
    },
    {
     "name": "stderr",
     "output_type": "stream",
     "text": [
      "\n",
      "Participant: 2it [00:00, 20.52it/s]"
     ]
    },
    {
     "name": "stdout",
     "output_type": "stream",
     "text": [
      "Iteration: 55 [-0.13914674  0.37300286] [[ 0.00632398 -0.00094973]\n",
      " [-0.00094973  0.0008381 ]]\n"
     ]
    },
    {
     "name": "stderr",
     "output_type": "stream",
     "text": [
      "\n",
      "Participant: 2it [00:00, 18.56it/s]"
     ]
    },
    {
     "name": "stdout",
     "output_type": "stream",
     "text": [
      "Iteration: 56 [-0.14123259  0.37347177] [[ 0.00619294 -0.00093327]\n",
      " [-0.00093327  0.00082371]]\n"
     ]
    },
    {
     "name": "stderr",
     "output_type": "stream",
     "text": [
      "\n",
      "Participant: 2it [00:00, 20.12it/s]"
     ]
    },
    {
     "name": "stdout",
     "output_type": "stream",
     "text": [
      "Iteration: 57 [-0.14323503  0.37392476] [[ 0.00606684 -0.00091735]\n",
      " [-0.00091735  0.00080981]]\n"
     ]
    },
    {
     "name": "stderr",
     "output_type": "stream",
     "text": [
      "\n",
      "Participant: 2it [00:00, 19.29it/s]"
     ]
    },
    {
     "name": "stdout",
     "output_type": "stream",
     "text": [
      "Iteration: 58 [-0.14515878  0.3743626 ] [[ 0.00594548 -0.00090193]\n",
      " [-0.00090193  0.00079637]]\n"
     ]
    },
    {
     "name": "stderr",
     "output_type": "stream",
     "text": [
      "\n",
      "Participant: 2it [00:00, 17.96it/s]"
     ]
    },
    {
     "name": "stdout",
     "output_type": "stream",
     "text": [
      "Iteration: 59 [-0.14700822  0.37478604] [[ 0.00582858 -0.00088701]\n",
      " [-0.00088701  0.00078337]]\n"
     ]
    },
    {
     "name": "stderr",
     "output_type": "stream",
     "text": [
      "\n",
      "Participant: 2it [00:00, 20.94it/s]"
     ]
    },
    {
     "name": "stdout",
     "output_type": "stream",
     "text": [
      "Iteration: 60 [-0.14878743  0.37519576] [[ 0.00571591 -0.00087255]\n",
      " [-0.00087255  0.00077079]]\n"
     ]
    },
    {
     "name": "stderr",
     "output_type": "stream",
     "text": [
      "\n",
      "Participant: 2it [00:00, 20.05it/s]"
     ]
    },
    {
     "name": "stdout",
     "output_type": "stream",
     "text": [
      "Iteration: 61 [-0.15050019  0.37559241] [[ 0.00560724 -0.00085854]\n",
      " [-0.00085854  0.00075861]]\n"
     ]
    },
    {
     "name": "stderr",
     "output_type": "stream",
     "text": [
      "\n",
      "Participant: 2it [00:00, 18.96it/s]"
     ]
    },
    {
     "name": "stdout",
     "output_type": "stream",
     "text": [
      "Iteration: 62 [-0.15215005  0.3759766 ] [[ 0.00550243 -0.00084495]\n",
      " [-0.00084495  0.0007468 ]]\n"
     ]
    },
    {
     "name": "stderr",
     "output_type": "stream",
     "text": [
      "\n",
      "Participant: 2it [00:00, 17.11it/s]"
     ]
    },
    {
     "name": "stdout",
     "output_type": "stream",
     "text": [
      "Iteration: 63 [-0.15374029  0.37634889] [[ 0.00540124 -0.00083177]\n",
      " [-0.00083177  0.00073536]]\n"
     ]
    },
    {
     "name": "stderr",
     "output_type": "stream",
     "text": [
      "\n",
      "Participant: 2it [00:00, 20.58it/s]"
     ]
    },
    {
     "name": "stdout",
     "output_type": "stream",
     "text": [
      "Iteration: 64 [-0.15527398  0.37670983] [[ 0.00530349 -0.00081898]\n",
      " [-0.00081898  0.00072426]]\n"
     ]
    },
    {
     "name": "stderr",
     "output_type": "stream",
     "text": [
      "\n",
      "Participant: 2it [00:00, 18.26it/s]"
     ]
    },
    {
     "name": "stdout",
     "output_type": "stream",
     "text": [
      "Iteration: 65 [-0.156754    0.37705991] [[ 0.00520905 -0.00080657]\n",
      " [-0.00080657  0.0007135 ]]\n"
     ]
    },
    {
     "name": "stderr",
     "output_type": "stream",
     "text": [
      "\n",
      "Participant: 2it [00:00, 19.11it/s]"
     ]
    },
    {
     "name": "stdout",
     "output_type": "stream",
     "text": [
      "Iteration: 66 [-0.15818304  0.37739962] [[ 0.00511774 -0.00079451]\n",
      " [-0.00079451  0.00070305]]\n"
     ]
    },
    {
     "name": "stderr",
     "output_type": "stream",
     "text": [
      "\n",
      "Participant: 2it [00:00, 18.73it/s]"
     ]
    },
    {
     "name": "stdout",
     "output_type": "stream",
     "text": [
      "Iteration: 67 [-0.15956361  0.37772941] [[ 0.0050294 -0.0007828]\n",
      " [-0.0007828  0.0006929]]\n"
     ]
    },
    {
     "name": "stderr",
     "output_type": "stream",
     "text": [
      "\n",
      "Participant: 2it [00:00, 18.91it/s]"
     ]
    },
    {
     "name": "stdout",
     "output_type": "stream",
     "text": [
      "Iteration: 68 [-0.16089805  0.3780497 ] [[ 0.0049439  -0.00077142]\n",
      " [-0.00077142  0.00068305]]\n"
     ]
    },
    {
     "name": "stderr",
     "output_type": "stream",
     "text": [
      "\n",
      "Participant: 2it [00:00, 18.57it/s]"
     ]
    },
    {
     "name": "stdout",
     "output_type": "stream",
     "text": [
      "Iteration: 69 [-0.16218859  0.37836088] [[ 0.00486112 -0.00076035]\n",
      " [-0.00076035  0.00067347]]\n"
     ]
    },
    {
     "name": "stderr",
     "output_type": "stream",
     "text": [
      "\n",
      "Participant: 2it [00:00, 18.58it/s]"
     ]
    },
    {
     "name": "stdout",
     "output_type": "stream",
     "text": [
      "Iteration: 70 [-0.16343728  0.37866335] [[ 0.00478096 -0.00074959]\n",
      " [-0.00074959  0.00066416]]\n"
     ]
    },
    {
     "name": "stderr",
     "output_type": "stream",
     "text": [
      "\n",
      "Participant: 2it [00:00, 20.42it/s]"
     ]
    },
    {
     "name": "stdout",
     "output_type": "stream",
     "text": [
      "Iteration: 71 [-0.16464609  0.37895745] [[ 0.00470322 -0.00073912]\n",
      " [-0.00073912  0.00065509]]\n"
     ]
    },
    {
     "name": "stderr",
     "output_type": "stream",
     "text": [
      "\n",
      "Participant: 2it [00:00, 18.26it/s]"
     ]
    },
    {
     "name": "stdout",
     "output_type": "stream",
     "text": [
      "Iteration: 72 [-0.16581684  0.37924353] [[ 0.0046279  -0.00072893]\n",
      " [-0.00072893  0.00064628]]\n"
     ]
    },
    {
     "name": "stderr",
     "output_type": "stream",
     "text": [
      "\n",
      "Participant: 2it [00:00, 19.60it/s]"
     ]
    },
    {
     "name": "stdout",
     "output_type": "stream",
     "text": [
      "Iteration: 73 [-0.16695125  0.3795219 ] [[ 0.00455483 -0.00071901]\n",
      " [-0.00071901  0.0006377 ]]\n"
     ]
    },
    {
     "name": "stderr",
     "output_type": "stream",
     "text": [
      "\n",
      "Participant: 2it [00:00, 20.33it/s]"
     ]
    },
    {
     "name": "stdout",
     "output_type": "stream",
     "text": [
      "Iteration: 74 [-0.16805095  0.37979288] [[ 0.0044839  -0.00070935]\n",
      " [-0.00070935  0.00062934]]\n"
     ]
    },
    {
     "name": "stderr",
     "output_type": "stream",
     "text": [
      "\n",
      "Participant: 2it [00:00, 19.04it/s]"
     ]
    },
    {
     "name": "stdout",
     "output_type": "stream",
     "text": [
      "Iteration: 75 [-0.16911745  0.38005674] [[ 0.00441507 -0.00069993]\n",
      " [-0.00069993  0.0006212 ]]\n"
     ]
    },
    {
     "name": "stderr",
     "output_type": "stream",
     "text": [
      "\n",
      "Participant: 2it [00:00, 18.22it/s]"
     ]
    },
    {
     "name": "stdout",
     "output_type": "stream",
     "text": [
      "Iteration: 76 [-0.17015222  0.38031377] [[ 0.00434823 -0.00069076]\n",
      " [-0.00069076  0.00061327]]\n"
     ]
    },
    {
     "name": "stderr",
     "output_type": "stream",
     "text": [
      "\n",
      "Participant: 2it [00:00, 19.29it/s]"
     ]
    },
    {
     "name": "stdout",
     "output_type": "stream",
     "text": [
      "Iteration: 77 [-0.17115661  0.38056422] [[ 0.0042833  -0.00068182]\n",
      " [-0.00068182  0.00060554]]\n"
     ]
    },
    {
     "name": "stderr",
     "output_type": "stream",
     "text": [
      "\n",
      "Participant: 2it [00:00, 20.34it/s]"
     ]
    },
    {
     "name": "stdout",
     "output_type": "stream",
     "text": [
      "Iteration: 78 [-0.17213191  0.38080834] [[ 0.00422019 -0.0006731 ]\n",
      " [-0.0006731   0.000598  ]]\n"
     ]
    },
    {
     "name": "stderr",
     "output_type": "stream",
     "text": [
      "\n"
     ]
    }
   ],
   "source": [
    "import scripts.modelling as modelling\n",
    "import models.CAFRL as CAFRL\n",
    "import models.SAFRL as SAFRL\n",
    "import models.SAFRL_A as SAFRL_A\n",
    "import models.CAFRL_A as CAFRL_A\n",
    "import models.FRL as FRL\n",
    "\n",
    "x = modelling.fit(data = model_data ,nP = 2, fit_func = FRL.fit, n_jobs = 2,\n",
    "                                fit_args = ['R','choice','S','dimension1'],transforms = ['sigmoid', 'exp'],fit = 'EM')"
   ]
  }
 ],
 "metadata": {
  "kernelspec": {
   "display_name": ".venv",
   "language": "python",
   "name": "python3"
  },
  "language_info": {
   "codemirror_mode": {
    "name": "ipython",
    "version": 3
   },
   "file_extension": ".py",
   "mimetype": "text/x-python",
   "name": "python",
   "nbconvert_exporter": "python",
   "pygments_lexer": "ipython3",
   "version": "3.10.12"
  }
 },
 "nbformat": 4,
 "nbformat_minor": 5
}
